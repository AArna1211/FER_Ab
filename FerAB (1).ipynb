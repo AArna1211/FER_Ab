{
  "metadata": {
    "kernelspec": {
      "language": "python",
      "display_name": "Python 3",
      "name": "python3"
    },
    "language_info": {
      "name": "python",
      "version": "3.10.13",
      "mimetype": "text/x-python",
      "codemirror_mode": {
        "name": "ipython",
        "version": 3
      },
      "pygments_lexer": "ipython3",
      "nbconvert_exporter": "python",
      "file_extension": ".py"
    },
    "kaggle": {
      "accelerator": "none",
      "dataSources": [
        {
          "sourceId": 1351797,
          "sourceType": "datasetVersion",
          "datasetId": 786787
        }
      ],
      "dockerImageVersionId": 30698,
      "isInternetEnabled": false,
      "language": "python",
      "sourceType": "notebook",
      "isGpuEnabled": false
    },
    "colab": {
      "name": "FerAB",
      "provenance": []
    }
  },
  "nbformat_minor": 0,
  "nbformat": 4,
  "cells": [
    {
      "source": [
        "\n",
        "# IMPORTANT: RUN THIS CELL IN ORDER TO IMPORT YOUR KAGGLE DATA SOURCES\n",
        "# TO THE CORRECT LOCATION (/kaggle/input) IN YOUR NOTEBOOK,\n",
        "# THEN FEEL FREE TO DELETE THIS CELL.\n",
        "# NOTE: THIS NOTEBOOK ENVIRONMENT DIFFERS FROM KAGGLE'S PYTHON\n",
        "# ENVIRONMENT SO THERE MAY BE MISSING LIBRARIES USED BY YOUR\n",
        "# NOTEBOOK.\n",
        "\n",
        "import os\n",
        "import sys\n",
        "from tempfile import NamedTemporaryFile\n",
        "from urllib.request import urlopen\n",
        "from urllib.parse import unquote, urlparse\n",
        "from urllib.error import HTTPError\n",
        "from zipfile import ZipFile\n",
        "import tarfile\n",
        "import shutil\n",
        "\n",
        "CHUNK_SIZE = 40960\n",
        "DATA_SOURCE_MAPPING = 'fer2013:https%3A%2F%2Fstorage.googleapis.com%2Fkaggle-data-sets%2F786787%2F1351797%2Fbundle%2Farchive.zip%3FX-Goog-Algorithm%3DGOOG4-RSA-SHA256%26X-Goog-Credential%3Dgcp-kaggle-com%2540kaggle-161607.iam.gserviceaccount.com%252F20240427%252Fauto%252Fstorage%252Fgoog4_request%26X-Goog-Date%3D20240427T143000Z%26X-Goog-Expires%3D259200%26X-Goog-SignedHeaders%3Dhost%26X-Goog-Signature%3D730399be5c20fd7c1a89d78eae4081c28bef90bd52486afded3211654e00884ec4db9c0358628d30f9ede5211e7c663c484d8339184f36cf65494d3b3321aa97dabe93e73de6cab9b373a4a309174c019e48c91a34f04509bcf691f02946bc04f88dc4046a76ef61eccc4c791e1d80d16cf654a8fa99d09eaeb694f7d103f78bcfd9a23dc9f5cbddfe63decb88b75a4b69cd78c09c594a6b5492ff653edee767e3649e98cf87a5767f438092968ca4d91730faea5c622f99eb1b968f28505d25fb65c9f2239c8366c14700f466bcbffc3074b82e7a700d1ea92abdf7e23cd254b96bbedbd99c72d64b44c01165b480cafb08d8791f103beae53a164ff09f4f86'\n",
        "\n",
        "KAGGLE_INPUT_PATH='/kaggle/input'\n",
        "KAGGLE_WORKING_PATH='/kaggle/working'\n",
        "KAGGLE_SYMLINK='kaggle'\n",
        "\n",
        "!umount /kaggle/input/ 2> /dev/null\n",
        "shutil.rmtree('/kaggle/input', ignore_errors=True)\n",
        "os.makedirs(KAGGLE_INPUT_PATH, 0o777, exist_ok=True)\n",
        "os.makedirs(KAGGLE_WORKING_PATH, 0o777, exist_ok=True)\n",
        "\n",
        "try:\n",
        "  os.symlink(KAGGLE_INPUT_PATH, os.path.join(\"..\", 'input'), target_is_directory=True)\n",
        "except FileExistsError:\n",
        "  pass\n",
        "try:\n",
        "  os.symlink(KAGGLE_WORKING_PATH, os.path.join(\"..\", 'working'), target_is_directory=True)\n",
        "except FileExistsError:\n",
        "  pass\n",
        "\n",
        "for data_source_mapping in DATA_SOURCE_MAPPING.split(','):\n",
        "    directory, download_url_encoded = data_source_mapping.split(':')\n",
        "    download_url = unquote(download_url_encoded)\n",
        "    filename = urlparse(download_url).path\n",
        "    destination_path = os.path.join(KAGGLE_INPUT_PATH, directory)\n",
        "    try:\n",
        "        with urlopen(download_url) as fileres, NamedTemporaryFile() as tfile:\n",
        "            total_length = fileres.headers['content-length']\n",
        "            print(f'Downloading {directory}, {total_length} bytes compressed')\n",
        "            dl = 0\n",
        "            data = fileres.read(CHUNK_SIZE)\n",
        "            while len(data) > 0:\n",
        "                dl += len(data)\n",
        "                tfile.write(data)\n",
        "                done = int(50 * dl / int(total_length))\n",
        "                sys.stdout.write(f\"\\r[{'=' * done}{' ' * (50-done)}] {dl} bytes downloaded\")\n",
        "                sys.stdout.flush()\n",
        "                data = fileres.read(CHUNK_SIZE)\n",
        "            if filename.endswith('.zip'):\n",
        "              with ZipFile(tfile) as zfile:\n",
        "                zfile.extractall(destination_path)\n",
        "            else:\n",
        "              with tarfile.open(tfile.name) as tarfile:\n",
        "                tarfile.extractall(destination_path)\n",
        "            print(f'\\nDownloaded and uncompressed: {directory}')\n",
        "    except HTTPError as e:\n",
        "        print(f'Failed to load (likely expired) {download_url} to path {destination_path}')\n",
        "        continue\n",
        "    except OSError as e:\n",
        "        print(f'Failed to load {download_url} to path {destination_path}')\n",
        "        continue\n",
        "\n",
        "print('Data source import complete.')\n"
      ],
      "metadata": {
        "id": "uq6kw7nv9qZI"
      },
      "cell_type": "code",
      "outputs": [],
      "execution_count": null
    },
    {
      "cell_type": "code",
      "source": [
        "import matplotlib.pyplot as plt\n",
        "import numpy as np\n",
        "import pandas as pd\n",
        "import seaborn as sns\n",
        "import os\n",
        "import cv2\n",
        "from glob import glob\n",
        "import random"
      ],
      "metadata": {
        "execution": {
          "iopub.status.busy": "2024-04-27T14:26:41.409253Z",
          "iopub.execute_input": "2024-04-27T14:26:41.409678Z",
          "iopub.status.idle": "2024-04-27T14:26:41.416124Z",
          "shell.execute_reply.started": "2024-04-27T14:26:41.40963Z",
          "shell.execute_reply": "2024-04-27T14:26:41.414804Z"
        },
        "trusted": true,
        "id": "y0xFE6id9qZK"
      },
      "execution_count": null,
      "outputs": []
    },
    {
      "cell_type": "code",
      "source": [
        "#DL stuff\n",
        "\n",
        "from keras.preprocessing.image import load_img, img_to_array\n",
        "from tensorflow.keras.preprocessing.image import ImageDataGenerator\n",
        "from keras.layers import Dense, Input, Dropout, GlobalAveragePooling2D, Flatten, Conv2D, BatchNormalization, Activation, MaxPooling2D\n",
        "from tensorflow.keras.models import Model, Sequential\n",
        "from keras.optimizers import Adam, SGD, RMSprop\n",
        "from tensorflow.keras.callbacks import ModelCheckpoint, ReduceLROnPlateau\n",
        "from tensorflow.keras.utils import plot_model\n",
        "\n",
        "from IPython.display import SVG, Image\n",
        "import tensorflow as tf\n",
        "print(\"Tensorflow version: \", tf.__version__)"
      ],
      "metadata": {
        "execution": {
          "iopub.status.busy": "2024-04-27T14:25:18.716328Z",
          "iopub.execute_input": "2024-04-27T14:25:18.716977Z",
          "iopub.status.idle": "2024-04-27T14:25:33.178609Z",
          "shell.execute_reply.started": "2024-04-27T14:25:18.716935Z",
          "shell.execute_reply": "2024-04-27T14:25:33.17733Z"
        },
        "trusted": true,
        "id": "Nhllrcka9qZL",
        "outputId": "8e6f0f37-4592-48d4-dd1e-d7db01436383"
      },
      "execution_count": null,
      "outputs": [
        {
          "name": "stderr",
          "text": "2024-04-27 14:25:21.325074: E external/local_xla/xla/stream_executor/cuda/cuda_dnn.cc:9261] Unable to register cuDNN factory: Attempting to register factory for plugin cuDNN when one has already been registered\n2024-04-27 14:25:21.325239: E external/local_xla/xla/stream_executor/cuda/cuda_fft.cc:607] Unable to register cuFFT factory: Attempting to register factory for plugin cuFFT when one has already been registered\n2024-04-27 14:25:21.490126: E external/local_xla/xla/stream_executor/cuda/cuda_blas.cc:1515] Unable to register cuBLAS factory: Attempting to register factory for plugin cuBLAS when one has already been registered\n",
          "output_type": "stream"
        },
        {
          "name": "stdout",
          "text": "Tensorflow version:  2.15.0\n",
          "output_type": "stream"
        }
      ]
    },
    {
      "cell_type": "code",
      "source": [
        "images = glob(\"/kaggle/input/fer2013/train/**/**\")\n",
        "for i in range(6):\n",
        "    image = random.choice(images)\n",
        "    plt.figure(figsize=(12,12))\n",
        "    plt.subplot(331+i)\n",
        "    plt.imshow(cv2.imread(image));plt.axis('off')"
      ],
      "metadata": {
        "execution": {
          "iopub.status.busy": "2024-04-27T14:26:47.473009Z",
          "iopub.execute_input": "2024-04-27T14:26:47.473385Z",
          "iopub.status.idle": "2024-04-27T14:26:48.018931Z",
          "shell.execute_reply.started": "2024-04-27T14:26:47.473357Z",
          "shell.execute_reply": "2024-04-27T14:26:48.017736Z"
        },
        "trusted": true,
        "id": "Z8SAxgcD9qZM",
        "outputId": "dc27b4dd-fea9-48a5-fae8-98581bb06585"
      },
      "execution_count": null,
      "outputs": [
        {
          "output_type": "display_data",
          "data": {
            "text/plain": "<Figure size 1200x1200 with 1 Axes>",
            "image/png": "[encoded data removed]"
          },
          "metadata": {}
        },
        {
          "output_type": "display_data",
          "data": {
            "text/plain": "<Figure size 1200x1200 with 1 Axes>",
            "image/png": "[encoded data removed]"
          },
          "metadata": {}
        },
        {
          "output_type": "display_data",
          "data": {
            "text/plain": "<Figure size 1200x1200 with 1 Axes>",
            "image/png": "[encoded data removed]"
          },
          "metadata": {}
        },
        {
          "output_type": "display_data",
          "data": {
            "text/plain": "<Figure size 1200x1200 with 1 Axes>",
            "image/png": "[encoded data removed]"
          },
          "metadata": {}
        },
        {
          "output_type": "display_data",
          "data": {
            "text/plain": "<Figure size 1200x1200 with 1 Axes>",
            "image/png": "[encoded data removed]"
          },
          "metadata": {}
        },
        {
          "output_type": "display_data",
          "data": {
            "text/plain": "<Figure size 1200x1200 with 1 Axes>",
            "image/png": "[encoded data removed]"
          },
          "metadata": {}
        }
      ]
    },
    {
      "cell_type": "code",
      "source": [
        "img_size = 48\n",
        "batch_size = 64\n",
        "datagen_train = ImageDataGenerator(horizontal_flip = True)\n",
        "train_generator = datagen_train.flow_from_directory(\"/kaggle/input/fer2013/train/\",\n",
        "                                                    target_size = (img_size,img_size),\n",
        "                                                    color_mode = \"grayscale\",\n",
        "                                                    batch_size = batch_size,\n",
        "                                                    class_mode = \"categorical\",\n",
        "                                                    shuffle = True)\n",
        "\n",
        "datagen_validation = ImageDataGenerator(horizontal_flip = True)\n",
        "validation_generator = datagen_validation.flow_from_directory(\"/kaggle/input/fer2013/test/\",\n",
        "                                                    target_size = (img_size,img_size),\n",
        "                                                    color_mode = \"grayscale\",\n",
        "                                                    batch_size = batch_size,\n",
        "                                                    class_mode = \"categorical\",\n",
        "                                                    shuffle = True)"
      ],
      "metadata": {
        "execution": {
          "iopub.status.busy": "2024-04-27T14:25:34.791564Z",
          "iopub.status.idle": "2024-04-27T14:25:34.792082Z",
          "shell.execute_reply.started": "2024-04-27T14:25:34.791868Z",
          "shell.execute_reply": "2024-04-27T14:25:34.791889Z"
        },
        "trusted": true,
        "id": "dpGcUHyj9qZM"
      },
      "execution_count": null,
      "outputs": []
    },
    {
      "cell_type": "code",
      "source": [
        "def Convolution(input_tensor, filters, kernel_size):\n",
        "    x = Conv2D(filters = filters, kernel_size = kernel_size, padding = \"same\")(input_tensor)\n",
        "    x = BatchNormalization()(x)\n",
        "    x = Activation('relu')(x)\n",
        "    x = MaxPooling2D(pool_size = (2,2))(x)\n",
        "    x = Dropout(0.25)(x)\n",
        "\n",
        "    return x"
      ],
      "metadata": {
        "execution": {
          "iopub.status.busy": "2024-04-27T14:25:34.794326Z",
          "iopub.status.idle": "2024-04-27T14:25:34.794802Z",
          "shell.execute_reply.started": "2024-04-27T14:25:34.794555Z",
          "shell.execute_reply": "2024-04-27T14:25:34.794573Z"
        },
        "trusted": true,
        "id": "m9cDH-6o9qZN"
      },
      "execution_count": null,
      "outputs": []
    },
    {
      "cell_type": "code",
      "source": [
        "def Dense_f(input_tensor, nodes):\n",
        "    x = Dense(nodes)(input_tensor)\n",
        "    x = BatchNormalization()(x)\n",
        "    x = Activation('relu')(x)\n",
        "    x = Dropout(0.25)(x)\n",
        "\n",
        "    return x"
      ],
      "metadata": {
        "execution": {
          "iopub.status.busy": "2024-04-27T14:25:34.796209Z",
          "iopub.status.idle": "2024-04-27T14:25:34.796587Z",
          "shell.execute_reply.started": "2024-04-27T14:25:34.796402Z",
          "shell.execute_reply": "2024-04-27T14:25:34.796418Z"
        },
        "trusted": true,
        "id": "UdIg76Ct9qZN"
      },
      "execution_count": null,
      "outputs": []
    },
    {
      "cell_type": "code",
      "source": [
        "def model_fer(input_shape):\n",
        "    inputs = Input(input_shape)\n",
        "    conv_1 = Convolution(inputs,64,(3,3))\n",
        "    conv_2 = Convolution(conv_1,128,(5,5))\n",
        "    conv_3 = Convolution(conv_2,512,(3,3))\n",
        "    conv_4 = Convolution(conv_2,512,(3,3))\n",
        "\n",
        "    flatten = Flatten()(conv_3)\n",
        "\n",
        "    dense_1 = Dense_f(flatten,256)\n",
        "    dense_2 = Dense_f(dense_1,512)\n",
        "\n",
        "    output  = Dense(7, activation=\"softmax\")(dense_1)\n",
        "    model  =  Model(inputs=[inputs],outputs = [output])\n",
        "\n",
        "    opt = Adam(learning_rate=0.0005)\n",
        "\n",
        "\n",
        "\n",
        "\n",
        "\n",
        "\n",
        "    model.compile(loss=['categorical_crossentropy'] , optimizer = opt , metrics =[\"accuracy\"])\n",
        "\n",
        "    return model"
      ],
      "metadata": {
        "execution": {
          "iopub.status.busy": "2024-04-27T14:25:34.798153Z",
          "iopub.status.idle": "2024-04-27T14:25:34.798603Z",
          "shell.execute_reply.started": "2024-04-27T14:25:34.798358Z",
          "shell.execute_reply": "2024-04-27T14:25:34.798375Z"
        },
        "trusted": true,
        "id": "bllTJCxj9qZN"
      },
      "execution_count": null,
      "outputs": []
    },
    {
      "cell_type": "code",
      "source": [
        "model = model_fer((48,48,1))\n",
        "model.summary()"
      ],
      "metadata": {
        "execution": {
          "iopub.status.busy": "2024-04-27T14:25:34.800129Z",
          "iopub.status.idle": "2024-04-27T14:25:34.800539Z",
          "shell.execute_reply.started": "2024-04-27T14:25:34.800343Z",
          "shell.execute_reply": "2024-04-27T14:25:34.80036Z"
        },
        "trusted": true,
        "id": "gyA_ZCG29qZN"
      },
      "execution_count": null,
      "outputs": []
    },
    {
      "cell_type": "code",
      "source": [
        "epochs = 15\n",
        "steps_per_epoch = train_generator.n//train_generator.batch_size\n",
        "validation_steps = validation_generator.n//validation_generator.batch_size\n",
        "\n",
        "checkpoint = ModelCheckpoint(\"weights.weights.h5\", monitor  ='val_accuracy', save_weights_only = True, mode = 'max', verbose =1)\n",
        "reduce_lr = ReduceLROnPlateau(monitor='val_loss', factor=0.1, patience=2, min_lr=0.00001)\n",
        "callbacks = [checkpoint,reduce_lr]"
      ],
      "metadata": {
        "execution": {
          "iopub.status.busy": "2024-04-27T14:25:34.802019Z",
          "iopub.status.idle": "2024-04-27T14:25:34.80241Z",
          "shell.execute_reply.started": "2024-04-27T14:25:34.80222Z",
          "shell.execute_reply": "2024-04-27T14:25:34.802236Z"
        },
        "trusted": true,
        "id": "Tp4X0wR79qZO"
      },
      "execution_count": null,
      "outputs": []
    },
    {
      "cell_type": "code",
      "source": [
        "history = model.fit(\n",
        "x = train_generator,\n",
        "steps_per_epoch = steps_per_epoch,\n",
        "epochs = epochs,\n",
        "validation_data = validation_generator,\n",
        "validation_steps = validation_steps,\n",
        "callbacks = callbacks)"
      ],
      "metadata": {
        "execution": {
          "iopub.status.busy": "2024-04-27T14:25:34.804439Z",
          "iopub.status.idle": "2024-04-27T14:25:34.805025Z",
          "shell.execute_reply.started": "2024-04-27T14:25:34.804746Z",
          "shell.execute_reply": "2024-04-27T14:25:34.804769Z"
        },
        "trusted": true,
        "id": "nGmqL2cv9qZO"
      },
      "execution_count": null,
      "outputs": []
    },
    {
      "cell_type": "code",
      "source": [
        "plt.style.use('dark_background')\n",
        "\n",
        "plt.figure(figsize=(20,10))\n",
        "plt.subplot(1, 2, 1)\n",
        "plt.suptitle('Optimizer : Adam', fontsize=10)\n",
        "plt.ylabel('Loss', fontsize=16)\n",
        "plt.plot(history.history['loss'], label='Training Loss')\n",
        "plt.plot(history.history['val_loss'], label='Validation Loss')\n",
        "plt.legend(loc='upper right')\n",
        "\n",
        "plt.subplot(1, 2, 2)\n",
        "plt.ylabel('Accuracy', fontsize=16)\n",
        "plt.plot(history.history['accuracy'], label='Training Accuracy')\n",
        "plt.plot(history.history['val_accuracy'], label='Validation Accuracy')\n",
        "plt.legend(loc='lower right')\n",
        "plt.show()"
      ],
      "metadata": {
        "execution": {
          "iopub.status.busy": "2024-04-27T14:25:34.806785Z",
          "iopub.status.idle": "2024-04-27T14:25:34.807201Z",
          "shell.execute_reply.started": "2024-04-27T14:25:34.806998Z",
          "shell.execute_reply": "2024-04-27T14:25:34.807019Z"
        },
        "trusted": true,
        "id": "_CBseT9w9qZO"
      },
      "execution_count": null,
      "outputs": []
    },
    {
      "cell_type": "code",
      "source": [
        "plt.plot(history.history['accuracy'])\n",
        "plt.plot(history.history['val_accuracy'])\n",
        "plt.title('Model Accuracy')\n",
        "plt.legend(['Train','Validation'],loc = 'upper left')\n",
        "plt.subplots_adjust(top=1.0,bottom=0.0,right =0.95,left=0.0,hspace=0.25,wspace=0.35)"
      ],
      "metadata": {
        "execution": {
          "iopub.status.busy": "2024-04-27T14:25:34.808799Z",
          "iopub.status.idle": "2024-04-27T14:25:34.809197Z",
          "shell.execute_reply.started": "2024-04-27T14:25:34.809005Z",
          "shell.execute_reply": "2024-04-27T14:25:34.809021Z"
        },
        "trusted": true,
        "id": "uHVZipo69qZO"
      },
      "execution_count": null,
      "outputs": []
    }
  ]
}